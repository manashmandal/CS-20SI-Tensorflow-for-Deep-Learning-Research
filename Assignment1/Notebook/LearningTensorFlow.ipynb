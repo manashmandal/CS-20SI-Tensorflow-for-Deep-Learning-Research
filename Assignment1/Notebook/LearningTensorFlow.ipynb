{
 "cells": [
  {
   "cell_type": "code",
   "execution_count": 6,
   "metadata": {
    "collapsed": true
   },
   "outputs": [],
   "source": [
    "# Linear Regression in TensorFlow\n",
    "%matplotlib inline\n",
    "import numpy as np\n",
    "import matplotlib.pyplot as plt\n",
    "import tensorflow as tf\n",
    "import xlrd\n",
    "\n",
    "DATA_FILE = 'data/fire_theft.xls'\n",
    "\n",
    "book = xlrd.open_workbook(DATA_FILE, encoding_override=\"utf-8\")\n",
    "sheet = book.sheet_by_index(0)\n",
    "data = np.asarray([sheet.row_values(i) for i in range(1, sheet.nrows)])\n",
    "n_samples = sheet.nrows - 1"
   ]
  },
  {
   "cell_type": "code",
   "execution_count": 3,
   "metadata": {
    "collapsed": true
   },
   "outputs": [],
   "source": [
    "X = tf.placeholder(tf.float32, name='X')\n",
    "Y = tf.placeholder(tf.float32, name='Y')\n",
    "\n",
    "w = tf.Variable(0.0, name='weights')\n",
    "b = tf.Variable(0.0, name='bias')"
   ]
  },
  {
   "cell_type": "code",
   "execution_count": 4,
   "metadata": {
    "collapsed": true
   },
   "outputs": [],
   "source": [
    "Yhat = X * w + b\n",
    "\n",
    "loss = tf.square(Y - Yhat, name='loss')"
   ]
  },
  {
   "cell_type": "code",
   "execution_count": 5,
   "metadata": {
    "collapsed": true
   },
   "outputs": [],
   "source": [
    "optimizer = tf.train.GradientDescentOptimizer(learning_rate=0.001).minimize(loss)"
   ]
  },
  {
   "cell_type": "code",
   "execution_count": 7,
   "metadata": {
    "collapsed": false
   },
   "outputs": [
    {
     "name": "stdout",
     "output_type": "stream",
     "text": [
      "Epoch 0 : 2069.6319333978354\n",
      "Epoch 1 : 2117.0123581953535\n",
      "Epoch 2 : 2092.302723001866\n",
      "Epoch 3 : 2068.5080461938464\n",
      "Epoch 4 : 2045.591184088162\n",
      "Epoch 5 : 2023.5146448101316\n",
      "Epoch 6 : 2002.2447619835536\n",
      "Epoch 7 : 1981.748338803649\n",
      "Epoch 8 : 1961.9944411260742\n",
      "Epoch 9 : 1942.9520116143283\n",
      "Epoch 10 : 1924.5930823644712\n",
      "Epoch 11 : 1906.8898800636332\n",
      "Epoch 12 : 1889.8164505837929\n",
      "Epoch 13 : 1873.347133841543\n",
      "Epoch 14 : 1857.4588400604468\n",
      "Epoch 15 : 1842.1278742424079\n",
      "Epoch 16 : 1827.332495119955\n",
      "Epoch 17 : 1813.0520579712022\n",
      "Epoch 18 : 1799.2660847636982\n",
      "Epoch 19 : 1785.9562132299961\n",
      "Epoch 20 : 1773.1024853109072\n",
      "Epoch 21 : 1760.689129482884\n",
      "Epoch 22 : 1748.6984157081515\n",
      "Epoch 23 : 1737.1138680398553\n",
      "Epoch 24 : 1725.920873066732\n",
      "Epoch 25 : 1715.1046249579008\n",
      "Epoch 26 : 1704.6500954309377\n",
      "Epoch 27 : 1694.5447134910141\n",
      "Epoch 28 : 1684.7746311347667\n",
      "Epoch 29 : 1675.328450968245\n",
      "Epoch 30 : 1666.1935385839038\n",
      "Epoch 31 : 1657.3584002084322\n",
      "Epoch 32 : 1648.8122658529207\n",
      "Epoch 33 : 1640.5440742547091\n",
      "Epoch 34 : 1632.5446836102221\n",
      "Epoch 35 : 1624.8043315147183\n",
      "Epoch 36 : 1617.3126799958602\n",
      "Epoch 37 : 1610.0622532456405\n",
      "Epoch 38 : 1603.0433557207386\n",
      "Epoch 39 : 1596.2479176106197\n",
      "Epoch 40 : 1589.668056331575\n",
      "Epoch 41 : 1583.2965242617897\n",
      "Epoch 42 : 1577.126371285745\n",
      "Epoch 43 : 1571.1501190634\n",
      "Epoch 44 : 1565.360979151513\n",
      "Epoch 45 : 1559.7523780798629\n",
      "Epoch 46 : 1554.3184364555138\n",
      "Epoch 47 : 1549.0529469620615\n",
      "Epoch 48 : 1543.950059985476\n",
      "Epoch 49 : 1539.0050282141283\n",
      "Epoch 50 : 1534.211797797609\n",
      "Epoch 51 : 1529.56534988646\n",
      "Epoch 52 : 1525.0607591186251\n",
      "Epoch 53 : 1520.6934648507852\n",
      "Epoch 54 : 1516.4585935090713\n",
      "Epoch 55 : 1512.3524023861364\n",
      "Epoch 56 : 1508.3695780125756\n",
      "Epoch 57 : 1504.5066588066873\n",
      "Epoch 58 : 1500.7606269073274\n",
      "Epoch 59 : 1497.126336559476\n",
      "Epoch 60 : 1493.600210891061\n",
      "Epoch 61 : 1490.1794991287668\n",
      "Epoch 62 : 1486.8605145300749\n",
      "Epoch 63 : 1483.639419928193\n",
      "Epoch 64 : 1480.5144186365596\n",
      "Epoch 65 : 1477.4811065652452\n",
      "Epoch 66 : 1474.5376660533782\n",
      "Epoch 67 : 1471.6799176652871\n",
      "Epoch 68 : 1468.9063155567717\n",
      "Epoch 69 : 1466.2136880280007\n",
      "Epoch 70 : 1463.5996563179153\n",
      "Epoch 71 : 1461.0614086978492\n",
      "Epoch 72 : 1458.597208841216\n",
      "Epoch 73 : 1456.2043069711044\n",
      "Epoch 74 : 1453.8807724802089\n",
      "Epoch 75 : 1451.6242183893032\n",
      "Epoch 76 : 1449.432753210976\n",
      "Epoch 77 : 1447.3042320180018\n",
      "Epoch 78 : 1445.237068621615\n",
      "Epoch 79 : 1443.228872676177\n",
      "Epoch 80 : 1441.2782130186733\n",
      "Epoch 81 : 1439.3831422174615\n",
      "Epoch 82 : 1437.542224922173\n",
      "Epoch 83 : 1435.7540219968096\n",
      "Epoch 84 : 1434.0160684508405\n",
      "Epoch 85 : 1432.3276573866606\n",
      "Epoch 86 : 1430.687153330871\n",
      "Epoch 87 : 1429.093016880254\n",
      "Epoch 88 : 1427.543719962062\n",
      "Epoch 89 : 1426.038033108981\n",
      "Epoch 90 : 1424.5748210840281\n",
      "Epoch 91 : 1423.1531702368743\n",
      "Epoch 92 : 1421.771026852585\n",
      "Epoch 93 : 1420.4274983895677\n",
      "Epoch 94 : 1419.121967994741\n",
      "Epoch 95 : 1417.85251878131\n",
      "Epoch 96 : 1416.618930517208\n",
      "Epoch 97 : 1415.4196022436731\n",
      "Epoch 98 : 1414.2534379121803\n",
      "Epoch 99 : 1413.1202843011845\n"
     ]
    },
    {
     "data": {
      "image/png": "[encoded data removed]",
      "text/plain": [
       "<matplotlib.figure.Figure at 0xaa6492d6a0>"
      ]
     },
     "metadata": {},
     "output_type": "display_data"
    }
   ],
   "source": [
    "with tf.Session() as sess:\n",
    "    sess.run(tf.global_variables_initializer())\n",
    "    writer = tf.summary.FileWriter('./my_graph/03/linear_reg', sess.graph)\n",
    "    \n",
    "    for i in range(100):\n",
    "        total_loss = 0\n",
    "        for x, y in data:\n",
    "            _, l = sess.run([optimizer, loss], feed_dict={X : x, Y : y})\n",
    "            total_loss += l\n",
    "        print (\"Epoch {0} : {1}\".format(i, total_loss/n_samples))\n",
    "        \n",
    "    writer.close()\n",
    "    \n",
    "    w_value, b_value = sess.run([w, b])\n",
    "    \n",
    "X, y = data.T[0], data.T[1]\n",
    "plt.plot(X, y, 'bo', label='Real data')\n",
    "plt.plot(X, X * w_value + b_value, 'r', label='Predicted data')\n",
    "plt.legend()\n",
    "plt.show()"
   ]
  },
  {
   "cell_type": "code",
   "execution_count": 8,
   "metadata": {
    "collapsed": true
   },
   "outputs": [],
   "source": [
    "# Logistic regression for OCR\n",
    "from tensorflow.examples.tutorials.mnist import input_data\n",
    "import time"
   ]
  },
  {
   "cell_type": "code",
   "execution_count": 9,
   "metadata": {
    "collapsed": true
   },
   "outputs": [],
   "source": [
    "learning_rate = 0.01\n",
    "batch_size = 128\n",
    "n_epoch = 10"
   ]
  },
  {
   "cell_type": "code",
   "execution_count": 10,
   "metadata": {
    "collapsed": false
   },
   "outputs": [
    {
     "name": "stdout",
     "output_type": "stream",
     "text": [
      "Successfully downloaded train-images-idx3-ubyte.gz 9912422 bytes.\n",
      "Extracting /data/mnist\\train-images-idx3-ubyte.gz\n",
      "Successfully downloaded train-labels-idx1-ubyte.gz 28881 bytes.\n",
      "Extracting /data/mnist\\train-labels-idx1-ubyte.gz\n",
      "Successfully downloaded t10k-images-idx3-ubyte.gz 1648877 bytes.\n",
      "Extracting /data/mnist\\t10k-images-idx3-ubyte.gz\n",
      "Successfully downloaded t10k-labels-idx1-ubyte.gz 4542 bytes.\n",
      "Extracting /data/mnist\\t10k-labels-idx1-ubyte.gz\n"
     ]
    }
   ],
   "source": [
    "mnist = input_data.read_data_sets('/data/mnist', one_hot=True)"
   ]
  },
  {
   "cell_type": "code",
   "execution_count": 13,
   "metadata": {
    "collapsed": true
   },
   "outputs": [],
   "source": [
    "X = tf.placeholder(tf.float32, [batch_size, 784], name='features')\n",
    "Y = tf.placeholder(tf.float32, [batch_size, 10] ,name='labels')"
   ]
  },
  {
   "cell_type": "code",
   "execution_count": 15,
   "metadata": {
    "collapsed": false
   },
   "outputs": [],
   "source": [
    "w = tf.Variable(tf.random_normal(shape=[784, 10], stddev=0.01), name='weights')\n",
    "b = tf.Variable(tf.zeros([1, 10]) ,name='bias')\n",
    "logits = tf.matmul(X, w) + b"
   ]
  },
  {
   "cell_type": "code",
   "execution_count": 16,
   "metadata": {
    "collapsed": true
   },
   "outputs": [],
   "source": [
    "entropy = tf.nn.softmax_cross_entropy_with_logits(logits, Y, name='loss')\n",
    "loss = tf.reduce_mean(entropy)"
   ]
  },
  {
   "cell_type": "code",
   "execution_count": 17,
   "metadata": {
    "collapsed": true
   },
   "outputs": [],
   "source": [
    "optimizer = tf.train.GradientDescentOptimizer(learning_rate).minimize(loss)"
   ]
  },
  {
   "cell_type": "code",
   "execution_count": 18,
   "metadata": {
    "collapsed": false
   },
   "outputs": [
    {
     "name": "stdout",
     "output_type": "stream",
     "text": [
      "Average loss epoch 0 : 1.2845190816270167\n",
      "Average loss epoch 1 : 0.7332399870965864\n",
      "Average loss epoch 2 : 0.6010412075719633\n",
      "Average loss epoch 3 : 0.5372319666794686\n",
      "Average loss epoch 4 : 0.4984478988708594\n",
      "Average loss epoch 5 : 0.4717013091890962\n",
      "Average loss epoch 6 : 0.4517468400907405\n",
      "Average loss epoch 7 : 0.43621481680647756\n",
      "Average loss epoch 8 : 0.42347004120444365\n",
      "Average loss epoch 9 : 0.413405565184591\n",
      "Total time: 4.618482828140259 seconds\n",
      "Optimization Finished\n",
      "Accuracy : 0.898\n"
     ]
    }
   ],
   "source": [
    "with tf.Session() as sess:\n",
    "    writer = tf.summary.FileWriter('./my_graph/03/logistic_reg', sess.graph)\n",
    "    \n",
    "    start_time = time.time()\n",
    "    sess.run(tf.global_variables_initializer())\n",
    "    n_batches = int(mnist.train.num_examples / batch_size)\n",
    "    \n",
    "    for i in range(n_epoch):\n",
    "        total_loss = 0\n",
    "        \n",
    "        for _ in range(n_batches):\n",
    "            X_batch, Y_batch = mnist.train.next_batch(batch_size)\n",
    "            _, loss_batch = sess.run([optimizer, loss], feed_dict={X: X_batch, Y: Y_batch})\n",
    "            total_loss += loss_batch\n",
    "        \n",
    "        print(\"Average loss epoch {0} : {1}\".format(i, total_loss/n_batches))\n",
    "    print(\"Total time: {0} seconds\".format(time.time() - start_time))\n",
    "    print(\"Optimization Finished\")\n",
    "    \n",
    "    # Testing the model\n",
    "    n_batches = int(mnist.test.num_examples / batch_size)\n",
    "    total_correct_preds = 0\n",
    "    for i in range(n_batches):\n",
    "        X_batch, Y_batch = mnist.test.next_batch(batch_size)\n",
    "        _, loss_batch, logits_batch = sess.run([optimizer, loss, logits], feed_dict={X: X_batch, Y : Y_batch})\n",
    "        preds = tf.nn.softmax(logits_batch)\n",
    "        correct_preds = tf.equal(tf.argmax(preds, 1), tf.argmax(Y_batch, 1))\n",
    "        accuracy = tf.reduce_sum(tf.cast(correct_preds, tf.float32))\n",
    "        total_correct_preds += sess.run(accuracy)\n",
    "    print(\"Accuracy : {0}\".format(total_correct_preds / mnist.test.num_examples))\n",
    "    writer.close()"
   ]
  },
  {
   "cell_type": "code",
   "execution_count": 26,
   "metadata": {
    "collapsed": false
   },
   "outputs": [
    {
     "name": "stdout",
     "output_type": "stream",
     "text": [
      "0.630139\n"
     ]
    }
   ],
   "source": [
    "\"\"\"\n",
    "Simple TensorFlow exercises\n",
    "You should thoroughly test your code\n",
    "\"\"\"\n",
    "###############################################################################\n",
    "# 1a: Create two random 0-d tensors x and y of any distribution.\n",
    "# Create a TensorFlow object that returns x + y if x > y, and x - y otherwise.\n",
    "# Hint: look up tf.cond()\n",
    "# I do the first problem for you\n",
    "###############################################################################\n",
    "def print_var(variable, model):\n",
    "    with tf.Session() as session:\n",
    "        session.run(model)\n",
    "        print(session.run(variable))\n",
    "\n",
    "x = tf.random_uniform([])  # Empty array as shape creates a scalar.\n",
    "y = tf.random_uniform([])\n",
    "out = tf.cond(tf.less(x, y), lambda: tf.add(x, y), lambda: tf.sub(x, y))\n",
    "\n",
    "model = tf.global_variables_initializer()\n",
    "\n",
    "print_var(y, model)"
   ]
  },
  {
   "cell_type": "code",
   "execution_count": 51,
   "metadata": {
    "collapsed": false
   },
   "outputs": [],
   "source": [
    "###############################################################################\n",
    "# 1b: Create two 0-d tensors x and y randomly selected from -1 and 1.\n",
    "# Return x + y if x < y, x - y if x > y, 0 otherwise.\n",
    "# Hint: Look up tf.case().\n",
    "###############################################################################\n",
    "\n",
    "# YOUR CODE\n",
    "x = tf.random_uniform([], minval=-1, maxval=1)\n",
    "y = tf.random_uniform([], minval=-1, maxval=1)\n",
    "\n",
    "out = tf.case(\n",
    "              {\n",
    "               tf.less   (x, y): lambda: tf.add(x, y),\n",
    "               tf.greater(x, y): lambda: tf.sub(x, y)\n",
    "              },\n",
    "               default = lambda: tf.constant(0.0),\n",
    "               exclusive=True\n",
    "             )"
   ]
  },
  {
   "cell_type": "code",
   "execution_count": 58,
   "metadata": {
    "collapsed": false
   },
   "outputs": [
    {
     "name": "stdout",
     "output_type": "stream",
     "text": [
      "[[ True False False]\n",
      " [ True False False]]\n"
     ]
    }
   ],
   "source": [
    "###############################################################################\n",
    "# 1c: Create the tensor x of the value [[0, -2, -1], [0, 1, 2]] \n",
    "# and y as a tensor of zeros with the same shape as x.\n",
    "# Return a boolean tensor that yields Trues if x equals y element-wise.\n",
    "# Hint: Look up tf.equal().\n",
    "###############################################################################\n",
    "\n",
    "# YOUR CODE\n",
    "x = tf.constant([[0, -2, -1], [0, 1, 2]])\n",
    "y = tf.zeros_like(x)\n",
    "\n",
    "out = tf.equal(x, y)"
   ]
  },
  {
   "cell_type": "code",
   "execution_count": 64,
   "metadata": {
    "collapsed": false
   },
   "outputs": [],
   "source": [
    "###############################################################################\n",
    "# 1d: Create the tensor x of value \n",
    "# [29.05088806,  27.61298943,  31.19073486,  29.35532951,\n",
    "#  30.97266006,  26.67541885,  38.08450317,  20.74983215,\n",
    "#  34.94445419,  34.45999146,  29.06485367,  36.01657104,\n",
    "#  27.88236427,  20.56035233,  30.20379066,  29.51215172,\n",
    "#  33.71149445,  28.59134293,  36.05556488,  28.66994858].\n",
    "# Get the indices of elements in x whose values are greater than 30.\n",
    "# Hint: Use tf.where().\n",
    "# Then extract elements whose values are greater than 30.\n",
    "# Hint: Use tf.gather().\n",
    "###############################################################################\n",
    "\n",
    "# YOUR CODE\n",
    "x = tf.constant([29.05088806,  27.61298943,  31.19073486,  29.35532951,\n",
    "                 30.97266006,  26.67541885,  38.08450317,  20.74983215,\n",
    "                 34.94445419,  34.45999146,  29.06485367,  36.01657104,\n",
    "                 27.88236427,  20.56035233,  30.20379066,  29.51215172,\n",
    "                 33.71149445,  28.59134293,  36.05556488,  28.66994858])\n",
    "\n",
    "out = tf.gather(x, indices=tf.where(x > 30))"
   ]
  },
  {
   "cell_type": "code",
   "execution_count": 71,
   "metadata": {
    "collapsed": false
   },
   "outputs": [],
   "source": [
    "###############################################################################\n",
    "# 1e: Create a diagnoal 2-d tensor of size 6 x 6 with the diagonal values of 1,\n",
    "# 2, ..., 6\n",
    "# Hint: Use tf.range() and tf.diag().\n",
    "###############################################################################\n",
    "\n",
    "# YOUR CODE\n",
    "out = tf.diag(tf.range(1, 7))"
   ]
  },
  {
   "cell_type": "code",
   "execution_count": 98,
   "metadata": {
    "collapsed": false
   },
   "outputs": [
    {
     "name": "stdout",
     "output_type": "stream",
     "text": [
      "-932.514\n"
     ]
    }
   ],
   "source": [
    "###############################################################################\n",
    "# 1f: Create a random 2-d tensor of size 10 x 10 from any distribution.\n",
    "# Calculate its determinant.\n",
    "# Hint: Look at tf.matrix_determinant().\n",
    "###############################################################################\n",
    "\n",
    "# YOUR CODE\n",
    "x = tf.random_normal(shape=(10, 10), stddev=1, mean=0.5)\n",
    "out = tf.matrix_determinant(x)"
   ]
  },
  {
   "cell_type": "code",
   "execution_count": 97,
   "metadata": {
    "collapsed": false
   },
   "outputs": [
    {
     "name": "stdout",
     "output_type": "stream",
     "text": [
      "[ 5  2  3 10  6  4  1  0  9]\n"
     ]
    }
   ],
   "source": [
    "###############################################################################\n",
    "# 1g: Create tensor x with value [5, 2, 3, 5, 10, 6, 2, 3, 4, 2, 1, 1, 0, 9].\n",
    "# Return the unique elements in x\n",
    "# Hint: use tf.unique(). Keep in mind that tf.unique() returns a tuple.\n",
    "###############################################################################\n",
    "\n",
    "# YOUR CODE\n",
    "x = tf.constant([5, 2, 3, 5, 10, 6, 2, 3, 4, 2, 1, 1, 0, 9])\n",
    "out, idx = tf.unique(x)"
   ]
  },
  {
   "cell_type": "code",
   "execution_count": 118,
   "metadata": {
    "collapsed": false
   },
   "outputs": [],
   "source": [
    "###############################################################################\n",
    "# 1h: Create two tensors x and y of shape 300 from any normal distribution,\n",
    "# as long as they are from the same distribution.\n",
    "# Use tf.less() and tf.select() to return:\n",
    "# - The mean squared error of (x - y) if the average of all elements in (x - y)\n",
    "#   is negative, or\n",
    "# - The sum of absolute value of all elements in the tensor (x - y) otherwise.\n",
    "# Hint: see the Huber loss function in the lecture slides 3.\n",
    "###############################################################################\n",
    "\n",
    "# YOUR CODE\n",
    "x = tf.random_normal(shape=(300,), stddev=1, mean=0.5)\n",
    "y = tf.random_normal(shape=(300,), stddev=1, mean=0.5)\n",
    "\n",
    "residual = tf.sub(x, y)\n",
    "mean = tf.div(tf.reduce_sum(residual), 300)\n",
    "\n",
    "condition = tf.less(mean, 0)\n",
    "\n",
    "small_res = 0.5 * tf.square(residual)\n",
    "large_res = residual - 0.5\n",
    "\n",
    "out = tf.select(condition, small_res, large_res)"
   ]
  },
  {
   "cell_type": "code",
   "execution_count": 119,
   "metadata": {
    "collapsed": false
   },
   "outputs": [
    {
     "name": "stdout",
     "output_type": "stream",
     "text": [
      "[ 0.84575582 -2.42943811 -0.62032926  0.64819503  2.08836842  1.38458061\n",
      " -2.98914242 -0.9232372   0.06528646 -1.38232887 -0.27166617  0.99233699\n",
      " -2.97479224 -2.51875997  2.21888709  2.60145783  1.8942008  -0.07591522\n",
      " -1.04239511 -1.48455191 -0.63246059 -0.08174157 -0.38979602 -1.406299\n",
      "  1.83908319 -1.12011027 -3.13526869 -2.33659148 -2.21863031 -0.90802813\n",
      "  1.02675605  1.07906985  2.35576749 -1.45940423 -1.52326393  2.06511855\n",
      "  1.67965984 -2.4510026  -2.32800293 -1.34461117 -1.26925492 -1.64591682\n",
      " -0.86407715 -0.61399287 -0.76828647  0.52986586  0.06576431  1.56482267\n",
      " -0.15203208 -0.83853161 -1.5099442   0.19050175 -2.39832211  0.09064162\n",
      "  0.98059952 -1.34732795 -0.74485409 -0.34591973 -1.59268761  1.37592578\n",
      "  0.57619607 -1.34699678 -1.66521156 -1.90893221  2.40681648 -0.41788614\n",
      "  0.63152206 -0.06358999 -1.05610383  1.65957189 -0.97401583 -1.88996649\n",
      "  0.41152835 -2.59478331 -0.92580533 -0.34965014 -1.4442358  -0.60184109\n",
      " -2.20360804  0.40562117  1.19791925 -1.7887342  -1.93626809 -0.34944597\n",
      " -3.71521997  0.90826607 -0.8909362   0.62645245 -0.46648908 -0.21210456\n",
      "  0.77289784 -3.4601326  -1.07595181 -1.44075644  0.43387514 -0.22921264\n",
      "  0.06770629  0.31892288  1.8983438  -0.10235468  0.03836191  0.73027432\n",
      "  0.16434622  1.70198822 -2.32172394 -0.31867296 -3.10482597  1.22352767\n",
      "  0.02649152 -3.22090626  1.16792536  3.48637152 -2.71926594 -0.49958467\n",
      " -0.77694929 -0.72684479 -1.02299201 -1.43524003 -2.7705493  -0.86654979\n",
      " -2.60861588 -0.50178671 -0.32751     1.14717567 -1.6114285   1.55653191\n",
      "  2.85868406  0.13151729 -1.70487821 -3.04112983  1.583462    0.08166003\n",
      " -0.84740484  4.09794092  1.80769324 -2.0281353  -0.5212791   0.16912138\n",
      " -1.26891768 -1.21689367 -3.24304199  0.71584594  0.66728973 -1.32792997\n",
      " -3.0179646  -1.3338685  -1.00129914  1.65709162 -1.52481282  0.19150138\n",
      "  0.50350904 -2.36841416  1.733706   -0.93262899 -2.81821871 -0.11207372\n",
      "  1.19097745 -0.01939821 -0.91715622 -1.11353707 -0.14217812 -0.62632459\n",
      " -0.50318086 -0.11666042 -0.01845998 -0.17767882 -2.4480443   4.41018963\n",
      " -0.50417328 -2.85403538 -0.67524725 -1.22289824  1.03388333 -0.56038284\n",
      "  1.58037877 -1.01220071  0.35415745 -1.39906824  3.36709833 -1.60684764\n",
      " -0.73852026  0.63520682 -1.27262235 -0.71852416 -1.76484132 -0.88542414\n",
      " -0.10753557  0.4040823   0.17199123  1.93488503 -0.4010627   0.80222607\n",
      " -0.76590794 -1.4126668  -0.93571472  0.45090336 -1.24392366 -0.80237842\n",
      " -2.2822957   0.84609914 -2.67623758 -0.27483165 -2.57053566  0.49875885\n",
      " -1.43875992 -1.5136441   0.68120492 -0.82530546 -0.93200421 -0.93375248\n",
      " -0.3168298  -0.20293975 -1.06114674  0.90785897  2.52154756 -1.95845234\n",
      "  0.09545249  0.48820037  1.48447061  1.02951813  2.90504169 -1.37172699\n",
      " -1.67542231 -1.58774114 -1.24156249  1.58134079  1.98544788 -0.84573346\n",
      " -1.918028   -1.35827684 -1.89654493 -0.07376838  0.47223824  0.22897863\n",
      " -0.20756236 -0.55116397 -1.52257168  0.63093042 -0.44971603 -1.34135735\n",
      " -2.28776026 -1.57212496 -0.19697261 -1.87657499  1.12087452 -0.09590507\n",
      " -2.65307093 -0.3195169  -1.89021838  0.04219306 -1.05885434  0.44651699\n",
      "  2.30009604 -2.77324414  2.18148899  0.50469446 -1.05737865 -1.63466787\n",
      "  0.28864568  0.98010993  0.65254271  1.50515771 -0.22548038 -2.01660442\n",
      " -0.75471389 -1.44763279 -1.2320689  -2.23195124  0.94884217  0.23277915\n",
      " -2.8558054   1.47340381 -0.78503788  1.10826302 -2.11032009  2.70969796\n",
      " -0.11703271 -1.98250997 -1.36718988  1.03727186 -1.35789824 -2.27724457\n",
      " -0.01499712 -2.36803985 -0.22403181 -3.22298336 -0.4477706   0.72723877\n",
      " -1.00255203  0.01991987  0.55591261 -0.40211558 -1.84583831 -1.57169867\n",
      " -0.16707212 -3.49001908 -0.58220232  0.16855156 -0.68969858  0.14020461]\n"
     ]
    }
   ],
   "source": [
    "print_var(out, model)"
   ]
  },
  {
   "cell_type": "code",
   "execution_count": 104,
   "metadata": {
    "collapsed": false
   },
   "outputs": [
    {
     "name": "stdout",
     "output_type": "stream",
     "text": [
      "[False False False False False False False False False False False False\n",
      " False False False False False False False False False False False False\n",
      " False False False False False False False False False False False False\n",
      " False False False False False False False False False False False False\n",
      " False False False False False False False False False False False False\n",
      " False False False False False False False False False False False False\n",
      " False False False False False False False False False False False False\n",
      " False False False False False False False False False False False False\n",
      " False False False False False False False False False False False False\n",
      " False False False False False False False False False False False False\n",
      " False False False False False False False False False False False False\n",
      " False False False False False False False False False False False False\n",
      " False False False False False False False False False False False False\n",
      " False False False False False False False False False False False False\n",
      " False False False False False False False False False False False False\n",
      " False False False False False False False False False False False False\n",
      " False False False False False False False False False False False False\n",
      " False False False False False False False False False False False False\n",
      " False False False False False False False False False False False False\n",
      " False False False False False False False False False False False False\n",
      " False False False False False False False False False False False False\n",
      " False False False False False False False False False False False False\n",
      " False False False False False False False False False False False False\n",
      " False False False False False False False False False False False False\n",
      " False False False False False False False False False False False False]\n"
     ]
    }
   ],
   "source": []
  },
  {
   "cell_type": "code",
   "execution_count": null,
   "metadata": {
    "collapsed": true
   },
   "outputs": [],
   "source": []
  }
 ],
 "metadata": {
  "kernelspec": {
   "display_name": "Python 3",
   "language": "python",
   "name": "python3"
  },
  "language_info": {
   "codemirror_mode": {
    "name": "ipython",
    "version": 3
   },
   "file_extension": ".py",
   "mimetype": "text/x-python",
   "name": "python",
   "nbconvert_exporter": "python",
   "pygments_lexer": "ipython3",
   "version": "3.5.2"
  }
 },
 "nbformat": 4,
 "nbformat_minor": 2
}
